{
 "cells": [
  {
   "cell_type": "code",
   "id": "initial_id",
   "metadata": {
    "collapsed": true,
    "ExecuteTime": {
     "end_time": "2024-09-01T10:50:49.866021Z",
     "start_time": "2024-09-01T10:50:49.344289Z"
    }
   },
   "source": [
    "import matplotlib.pyplot as plt\n",
    "import numpy as np\n",
    "import librosa\n",
    "import librosa.feature\n",
    "import os\n",
    "from pydub import AudioSegment\n",
    "from pydub.utils import make_chunks\n"
   ],
   "outputs": [],
   "execution_count": 2
  },
  {
   "metadata": {
    "ExecuteTime": {
     "end_time": "2024-09-01T10:50:51.314710Z",
     "start_time": "2024-09-01T10:50:51.298706Z"
    }
   },
   "cell_type": "code",
   "source": [
    "def wav_extraction(input_folder, output_folder, audio_format, chunk_size):\n",
    "    file_counter = 0\n",
    "    if os.path.exists(output_folder) and os.path.isdir(output_folder):\n",
    "        with os.scandir(output_folder) as entries:\n",
    "            for entry in entries:\n",
    "                if entry.is_file():\n",
    "                    file_counter += 1\n",
    "                    \n",
    "    os.makedirs(output_folder, exist_ok=True)\n",
    "    \n",
    "    for j, filename in enumerate(os.listdir(input_folder)):\n",
    "        full_filename = os.path.join(input_folder, filename)\n",
    "        audio = AudioSegment.from_file(full_filename, format=audio_format)\n",
    "        chunks = make_chunks(audio, chunk_size)\n",
    "\n",
    "        for i, chunk in enumerate(chunks):\n",
    "            if len(chunk) < chunk_size:\n",
    "                continue\n",
    "\n",
    "            chunk_name = f\"chunk{i}{j + file_counter}.wav\"\n",
    "            full_chankname = os.path.join(output_folder, chunk_name)\n",
    "            \n",
    "            chunk.export(full_chankname, format=\"wav\")\n",
    "\n",
    "        \n",
    "def mfcc_extraction(input_folder, output_folder, category_folder):\n",
    "    file_counter = 0\n",
    "    counter = 0\n",
    "    os.makedirs(output_folder, exist_ok=True)\n",
    "    \n",
    "    train_folder = os.path.join(output_folder, 'train')\n",
    "    val_folder = os.path.join(output_folder, 'val')\n",
    "    test_folder = os.path.join(output_folder, 'test')\n",
    "    \n",
    "    os.makedirs(train_folder, exist_ok=True)\n",
    "    os.makedirs(val_folder, exist_ok=True)\n",
    "    os.makedirs(test_folder, exist_ok=True)\n",
    "    \n",
    "    train_folder_cat = os.path.join(train_folder, category_folder)\n",
    "    val_folder_cat = os.path.join(val_folder, category_folder)\n",
    "    test_folder_cat = os.path.join(test_folder, category_folder)\n",
    "    \n",
    "    os.makedirs(train_folder_cat, exist_ok=True)\n",
    "    os.makedirs(val_folder_cat, exist_ok=True)\n",
    "    os.makedirs(test_folder_cat, exist_ok=True)\n",
    "    \n",
    "    if os.path.exists(output_folder) and os.path.isdir(output_folder):\n",
    "        with os.scandir(output_folder) as entries:\n",
    "            for entry in entries:\n",
    "                if entry.is_file():\n",
    "                    file_counter += 1\n",
    "                    \n",
    "    # print(file_counter)\n",
    "    \n",
    "    os.makedirs(output_folder, exist_ok=True)\n",
    "    os.makedirs(output_folder, exist_ok=True)\n",
    "             \n",
    "    for index, filename in enumerate(os.listdir(input_folder)):   \n",
    "        full_filename = os.path.join(input_folder, filename)  \n",
    "        \n",
    "        sr = 16000\n",
    "        n_mfcc = 12\n",
    "        n_mels = 128\n",
    "\n",
    "        audio_data, sampling_rate = librosa.load(full_filename, sr=sr)\n",
    "        mels = librosa.feature.melspectrogram(y=audio_data, sr=sr, n_mels=n_mels)\n",
    "\n",
    "        mfccs = librosa.feature.mfcc(S=librosa.power_to_db(mels, ref=np.max), sr=sr, n_mfcc=n_mfcc)\n",
    "    \n",
    "        mfcc_filename = f\"mfcc_chunk_{index + file_counter}.npy\"\n",
    "        \n",
    "        if counter == 7:\n",
    "            full_mfcc_filename = os.path.join(val_folder_cat, mfcc_filename)\n",
    "            np.save(full_mfcc_filename, mfccs)\n",
    "            counter += 1\n",
    "        if counter == 8:\n",
    "            full_mfcc_filename = os.path.join(test_folder_cat, mfcc_filename)\n",
    "            np.save(full_mfcc_filename, mfccs)\n",
    "            counter = 0\n",
    "        else:\n",
    "            full_mfcc_filename = os.path.join(train_folder_cat, mfcc_filename)\n",
    "            np.save(full_mfcc_filename, mfccs)\n",
    "            counter += 1"
   ],
   "id": "ae1bcef7f82bef72",
   "outputs": [],
   "execution_count": 3
  },
  {
   "metadata": {
    "ExecuteTime": {
     "end_time": "2024-09-01T10:50:54.470715Z",
     "start_time": "2024-09-01T10:50:54.467716Z"
    }
   },
   "cell_type": "code",
   "source": "print(os.getcwd())   ",
   "id": "a5c660f9ff7cbadc",
   "outputs": [
    {
     "name": "stdout",
     "output_type": "stream",
     "text": [
      "C:\\programming\\machine-learning\\recognition\n"
     ]
    }
   ],
   "execution_count": 4
  },
  {
   "metadata": {
    "ExecuteTime": {
     "end_time": "2024-09-01T11:00:45.806526Z",
     "start_time": "2024-09-01T10:52:00.281006Z"
    }
   },
   "cell_type": "code",
   "source": [
    "inp1 = \"data_mp3\"\n",
    "inp2 = \"data_ogg\"\n",
    "inp3 = \"to_conv_m4a\"\n",
    "\n",
    "wav_extraction(inp1, \"audio_data_set\", \"mp3\", 5000)"
   ],
   "id": "15aebc8fa7a93a78",
   "outputs": [],
   "execution_count": 6
  },
  {
   "metadata": {
    "ExecuteTime": {
     "end_time": "2024-09-01T11:01:31.215531Z",
     "start_time": "2024-09-01T11:01:25.773527Z"
    }
   },
   "cell_type": "code",
   "source": [
    "wav_extraction(inp2, \"my_audio_data_set\", \"ogg\", 5000)\n",
    "wav_extraction(inp3, \"my_audio_data_set\", \"m4a\", 5000)"
   ],
   "id": "31c05fcf8afa2bd",
   "outputs": [],
   "execution_count": 7
  },
  {
   "metadata": {
    "ExecuteTime": {
     "end_time": "2024-09-01T11:02:54.486303Z",
     "start_time": "2024-09-01T11:01:59.513510Z"
    }
   },
   "cell_type": "code",
   "source": [
    "inpch1 = \"my_audio_data_set\"\n",
    "inpch2 = \"audio_data_set\"\n",
    "\n",
    "outmfcc1 = \"my_data_set_mfcc\"\n",
    "outmfcc2 = \"data_set_mfcc\"\n",
    "\n",
    "data_folder = \"data_set\"\n",
    "\n",
    "mfcc_extraction(inpch1, data_folder, outmfcc1)\n",
    "mfcc_extraction(inpch2, data_folder, outmfcc2)"
   ],
   "id": "bfbca5517c45db56",
   "outputs": [],
   "execution_count": 8
  },
  {
   "metadata": {},
   "cell_type": "code",
   "outputs": [],
   "execution_count": null,
   "source": "",
   "id": "aaf5d6d4145c6fe7"
  }
 ],
 "metadata": {
  "kernelspec": {
   "display_name": "Python 3",
   "language": "python",
   "name": "python3"
  },
  "language_info": {
   "codemirror_mode": {
    "name": "ipython",
    "version": 2
   },
   "file_extension": ".py",
   "mimetype": "text/x-python",
   "name": "python",
   "nbconvert_exporter": "python",
   "pygments_lexer": "ipython2",
   "version": "2.7.6"
  }
 },
 "nbformat": 4,
 "nbformat_minor": 5
}
